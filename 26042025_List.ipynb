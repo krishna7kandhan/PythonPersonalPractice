{
 "cells": [
  {
   "cell_type": "code",
   "execution_count": 18,
   "id": "3bb5e7f0",
   "metadata": {},
   "outputs": [
    {
     "name": "stdout",
     "output_type": "stream",
     "text": [
      "Krishna\n",
      "Kandhan\n",
      "Arun\n",
      "Kowsi\n",
      "Below are employee list in our company:\n",
      "['Krishna', 'Raj', 'Arun', 'Kowsi', 'Kandhan']\n",
      " And employee, Arun is new joiner.\n"
     ]
    }
   ],
   "source": [
    "emp_list = ['Krishna','Raj','Arun','Kowsi','Kandhan']\n",
    "print(emp_list[0])\n",
    "print(emp_list[-1])\n",
    "print(emp_list[-3])\n",
    "print(emp_list[-2])\n",
    "message = \"Below are employee list in our company:\\n\" + str(emp_list) + \"\\n And employee, \" + str(emp_list[2]) + \" is new joiner.\"\n",
    "print (message)"
   ]
  },
  {
   "cell_type": "code",
   "execution_count": 35,
   "id": "32e0ac29",
   "metadata": {},
   "outputs": [
    {
     "name": "stdout",
     "output_type": "stream",
     "text": [
      "['TATA', 'MAHINDRA', 'FORD', 'BYD']\n",
      "['TATA', 'MAHINDRA', 'FORD', 'Renault']\n",
      "['TATA', 'MAHINDRA', 'FORD', 'Renault', 'BYD']\n",
      "['TATA', 'MAHINDRA', 'FORD', 'Renault']\n",
      "['TATA', 'MAHINDRA', 'FORD']\n",
      "Last car to release Renault\n",
      "['TATA', 'MAHINDRA', 'FORD', 'Renault']\n",
      "['TATA', 'MAHINDRA', 'Renault']\n",
      "['TATA', 'MAHINDRA', 'Renault', 'FORD']\n"
     ]
    }
   ],
   "source": [
    "# Adding, modify and Remove a list \n",
    "\n",
    "car_list = ['TATA','MAHINDRA','FORD']\n",
    "car_list.append('BYD')\n",
    "print(car_list)\n",
    "\n",
    "car_list[3] = 'Renault'\n",
    "print(car_list)\n",
    "\n",
    "car_list.insert(4,'BYD')\n",
    "print(car_list)\n",
    "\n",
    "del(car_list[4])\n",
    "print(car_list)\n",
    "\n",
    "latestrelease=car_list.pop()\n",
    "print(car_list)\n",
    "print(\"Last car to release \" + latestrelease)\n",
    "\n",
    "car_list.append(latestrelease)\n",
    "print(car_list)\n",
    "\n",
    "oddrelease=car_list.pop(2)\n",
    "print(car_list)\n",
    "\n",
    "car_list.append(oddrelease)\n",
    "print(car_list)"
   ]
  }
 ],
 "metadata": {
  "kernelspec": {
   "display_name": "Python 3",
   "language": "python",
   "name": "python3"
  },
  "language_info": {
   "codemirror_mode": {
    "name": "ipython",
    "version": 3
   },
   "file_extension": ".py",
   "mimetype": "text/x-python",
   "name": "python",
   "nbconvert_exporter": "python",
   "pygments_lexer": "ipython3",
   "version": "3.12.10"
  }
 },
 "nbformat": 4,
 "nbformat_minor": 5
}
