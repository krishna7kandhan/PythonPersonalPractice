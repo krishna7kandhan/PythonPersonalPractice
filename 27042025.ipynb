{
 "cells": [
  {
   "cell_type": "code",
   "execution_count": 3,
   "id": "fb59e627",
   "metadata": {},
   "outputs": [
    {
     "name": "stdout",
     "output_type": "stream",
     "text": [
      "cat\n",
      "dog\n",
      "cow\n",
      "lion\n",
      "tiger\n"
     ]
    }
   ],
   "source": [
    "animals=['cat','dog','cow','lion','tiger']\n",
    "for i in range(len(animals)):\n",
    " print(animals[i])"
   ]
  },
  {
   "cell_type": "code",
   "execution_count": 15,
   "id": "beba3800",
   "metadata": {},
   "outputs": [
    {
     "name": "stdout",
     "output_type": "stream",
     "text": [
      "cat\n",
      "dog\n",
      "cow\n",
      "lion\n",
      "tiger\n"
     ]
    }
   ],
   "source": [
    "animals=['cat','dog','cow','lion','tiger']\n",
    "n = 0 \n",
    "while n<len(animals):\n",
    "  print(animals[n])\n",
    "  n=n+1"
   ]
  }
 ],
 "metadata": {
  "kernelspec": {
   "display_name": "Python 3",
   "language": "python",
   "name": "python3"
  },
  "language_info": {
   "codemirror_mode": {
    "name": "ipython",
    "version": 3
   },
   "file_extension": ".py",
   "mimetype": "text/x-python",
   "name": "python",
   "nbconvert_exporter": "python",
   "pygments_lexer": "ipython3",
   "version": "3.12.10"
  }
 },
 "nbformat": 4,
 "nbformat_minor": 5
}
