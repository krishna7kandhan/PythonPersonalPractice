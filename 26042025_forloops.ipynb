{
 "cells": [
  {
   "cell_type": "code",
   "execution_count": 12,
   "id": "ec1efd73",
   "metadata": {},
   "outputs": [
    {
     "name": "stdout",
     "output_type": "stream",
     "text": [
      "OUTPUT\n",
      "=============================================================\n",
      "Given list :  1 2 3 4 5 6 7 8 9 10 15 18 13 16 20 23 24 28 27 30 35 40 50 56 55 59 63 66 70 77 75 79 89 90 91 92 93 94 95 96 97 98 99 0\n",
      "\n",
      "RESULTS\n",
      "===========================================================\n",
      "[3, 6, 9, 15, 18, 24, 27, 30, 63, 66, 75, 90, 93, 96, 99, 0]\n",
      "[5, 10, 20, 35, 40, 50, 55, 70, 95]\n",
      "[7, 28, 56, 77, 91, 98]\n",
      "[2, 4, 8, 16, 92, 94]\n",
      "[1, 13, 23, 59, 79, 89, 97]\n",
      "=========================================================\n",
      "\n",
      "Number divisible by 3 from the given : 3 6 9 15 18 24 27 30 63 66 75 90 93 96 99 0\n",
      "Number divisible by 5 from the given : 5 10 20 35 40 50 55 70 95\n",
      "Number divisible by 7 from the given : 7 28 56 77 91 98\n",
      "Number divisible by 2 from the given : 2 4 8 16 92 94\n",
      "Number not divisible by any of the numbers provided : 1 13 23 59 79 89 97\n"
     ]
    }
   ],
   "source": [
    "num_list = [1,2,3,4,5,6,7,8,9,10,15,18,13,16,20,23,24,28,27,30,35,40,50,56,55,59,63,66,70,77,75,79,89,90,91,92,93,94,95,96,97,98,99,00]\n",
    "div3_list=[]\n",
    "div5_list=[]\n",
    "div7_list=[]\n",
    "div2_list=[]\n",
    "other_list=[]\n",
    "\n",
    "for i in num_list:\n",
    "    if (i%3 == 0):\n",
    "        div3_list.append(i)\n",
    "    elif (i%5 == 0):\n",
    "        div5_list.append(i)\n",
    "    elif (i%7 == 0):\n",
    "        div7_list.append(i)\n",
    "    elif (i%2 == 0):\n",
    "        div2_list.append(i)\n",
    "    else:\n",
    "        other_list.append(i)\n",
    "\n",
    "print(\"OUTPUT\")\n",
    "print(\"=============================================================\")\n",
    "print(\"Given list : \", *num_list)\n",
    "print(\"\\nRESULTS\")\n",
    "print(\"===========================================================\")\n",
    "print(div3_list)\n",
    "print(div5_list)\n",
    "print(div7_list)\n",
    "print(div2_list)\n",
    "print(other_list)\n",
    "\n",
    "print(\"=========================================================\")\n",
    "\n",
    "print (\"\\nNumber divisible by 3 from the given :\", *div3_list)\n",
    "print (\"Number divisible by 5 from the given :\", *div5_list)\n",
    "print (\"Number divisible by 7 from the given :\", *div7_list)\n",
    "print (\"Number divisible by 2 from the given :\", *div2_list)\n",
    "print (\"Number not divisible by any of the numbers provided :\", *other_list)"
   ]
  }
 ],
 "metadata": {
  "kernelspec": {
   "display_name": "Python 3",
   "language": "python",
   "name": "python3"
  },
  "language_info": {
   "codemirror_mode": {
    "name": "ipython",
    "version": 3
   },
   "file_extension": ".py",
   "mimetype": "text/x-python",
   "name": "python",
   "nbconvert_exporter": "python",
   "pygments_lexer": "ipython3",
   "version": "3.12.10"
  }
 },
 "nbformat": 4,
 "nbformat_minor": 5
}
