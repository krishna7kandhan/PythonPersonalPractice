{
 "cells": [
  {
   "cell_type": "code",
   "execution_count": 16,
   "id": "ec1efd73",
   "metadata": {},
   "outputs": [
    {
     "name": "stdout",
     "output_type": "stream",
     "text": [
      "OUTPUT\n",
      "=============================================================\n",
      "Given list :  1 2 3 4 5 6 7 8 9 10 15 18 13 16 20 23 24 28 27 30 35 40 50 56 55 59 63 66 70 77 75 79 89 90 91 92 93 94 95 96 97 98 99 0\n",
      "\n",
      "RESULTS\n",
      "===========================================================\n",
      "[3, 6, 9, 15, 18, 24, 27, 30, 63, 66, 75, 90, 93, 96, 99, 0]\n",
      "[5, 10, 15, 20, 30, 35, 40, 50, 55, 70, 75, 90, 95, 0]\n",
      "[7, 28, 35, 56, 63, 70, 77, 91, 98, 0]\n",
      "[2, 4, 6, 8, 10, 18, 16, 20, 24, 28, 30, 40, 50, 56, 66, 70, 90, 92, 94, 96, 98, 0]\n",
      "=========================================================\n",
      "\n",
      "Number divisible by 3 from the given list: 3 6 9 15 18 24 27 30 63 66 75 90 93 96 99 0\n",
      "Number divisible by 5 from the given list: 5 10 15 20 30 35 40 50 55 70 75 90 95 0\n",
      "Number divisible by 7 from the given list: 7 28 35 56 63 70 77 91 98 0\n",
      "Number divisible by 2 from the given list: 2 4 6 8 10 18 16 20 24 28 30 40 50 56 66 70 90 92 94 96 98 0\n"
     ]
    }
   ],
   "source": [
    "num_list = [1,2,3,4,5,6,7,8,9,10,15,18,13,16,20,23,24,28,27,30,35,40,50,56,55,59,63,66,70,77,75,79,89,90,91,92,93,94,95,96,97,98,99,00]\n",
    "div3_list=[]\n",
    "div5_list=[]\n",
    "div7_list=[]\n",
    "div2_list=[]\n",
    "other_list=[]\n",
    "\n",
    "for i in num_list:\n",
    "    if (i%3 == 0):\n",
    "        div3_list.append(i)\n",
    "    if (i%5 == 0):\n",
    "        div5_list.append(i)\n",
    "    if (i%7 == 0):\n",
    "        div7_list.append(i)\n",
    "    if (i%2 == 0):\n",
    "        div2_list.append(i)\n",
    "\n",
    "print(\"OUTPUT\")\n",
    "print(\"=============================================================\")\n",
    "print(\"Given list : \", *num_list)\n",
    "print(\"\\nRESULTS\")\n",
    "print(\"===========================================================\")\n",
    "print(div3_list)\n",
    "print(div5_list)\n",
    "print(div7_list)\n",
    "print(div2_list)\n",
    "\n",
    "print(\"=========================================================\")\n",
    "\n",
    "print (\"\\nNumber divisible by 3 from the given list:\", *div3_list)\n",
    "print (\"Number divisible by 5 from the given list:\", *div5_list)\n",
    "print (\"Number divisible by 7 from the given list:\", *div7_list)\n",
    "print (\"Number divisible by 2 from the given list:\", *div2_list)\n",
    "#print (\"Number not divisible by any of the numbers provided list:\", *other_list)"
   ]
  }
 ],
 "metadata": {
  "kernelspec": {
   "display_name": "Python 3",
   "language": "python",
   "name": "python3"
  },
  "language_info": {
   "codemirror_mode": {
    "name": "ipython",
    "version": 3
   },
   "file_extension": ".py",
   "mimetype": "text/x-python",
   "name": "python",
   "nbconvert_exporter": "python",
   "pygments_lexer": "ipython3",
   "version": "3.12.10"
  }
 },
 "nbformat": 4,
 "nbformat_minor": 5
}
