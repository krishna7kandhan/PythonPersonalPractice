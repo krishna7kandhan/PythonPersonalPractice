{
 "cells": [
  {
   "cell_type": "code",
   "execution_count": 3,
   "id": "d03f46f9",
   "metadata": {},
   "outputs": [
    {
     "name": "stdout",
     "output_type": "stream",
     "text": [
      "Hello world !!\n",
      "practice makes a man perfect!!\n",
      "Lets conquer the world\n",
      "Python Practice\n",
      "PYTHON PRACTICE\n",
      "python practice\n"
     ]
    }
   ],
   "source": [
    "###26042025 practice \n",
    "message = 'Hello world !!'\n",
    "print(message)\n",
    "mesage='practice makes a man perfect!!'\n",
    "print(mesage)\n",
    "\n",
    "message='Lets conquer the world'\n",
    "print (message)\n",
    "\n",
    "notes = 'PYTHON PRACTICE'\n",
    "print(notes.title())\n",
    "print(notes.upper())\n",
    "print(notes.lower())"
   ]
  },
  {
   "cell_type": "code",
   "execution_count": 10,
   "id": "39ae64b1",
   "metadata": {},
   "outputs": [
    {
     "name": "stdout",
     "output_type": "stream",
     "text": [
      "KRISHNA KUMAR\n",
      "Good start, Krishna kumar!\n",
      "\n",
      "\t Get\n",
      "\t Set\n",
      "\t GO\n"
     ]
    }
   ],
   "source": [
    "### Practice concatenation\n",
    "first_name = 'Krishna'\n",
    "last_name= 'kumar'\n",
    "full_name = first_name + \" \" + last_name\n",
    "print(full_name.upper())\n",
    "\n",
    "# \\n -- new line \n",
    "# \\t -- tab \n",
    "\n",
    "print (\"Good start,\" + \" \" + full_name + \"!\\n\")\n",
    "print (\"\\t Get\")\n",
    "print (\"\\t Set\")\n",
    "print (\"\\t GO\")\n",
    "\n",
    "\n"
   ]
  },
  {
   "cell_type": "code",
   "execution_count": 13,
   "id": "89960b93",
   "metadata": {},
   "outputs": [
    {
     "name": "stdout",
     "output_type": "stream",
     "text": [
      "Albert Einstein's Quote:\n",
      "\t A person who never made mistake never tried anything new !!!\n"
     ]
    }
   ],
   "source": [
    "# rstrip() - to remove whitespace in right side of a string \n",
    "# lstrip() - to remove whitespace in left side of a string \n",
    "# strip () - to remove whitespace from both the end of a string \n",
    "\n",
    "print (\"Albert Einstein's Quote:\\n\\t A person who never made mistake never tried anything new !!!\")"
   ]
  }
 ],
 "metadata": {
  "kernelspec": {
   "display_name": "Python 3",
   "language": "python",
   "name": "python3"
  },
  "language_info": {
   "codemirror_mode": {
    "name": "ipython",
    "version": 3
   },
   "file_extension": ".py",
   "mimetype": "text/x-python",
   "name": "python",
   "nbconvert_exporter": "python",
   "pygments_lexer": "ipython3",
   "version": "3.12.10"
  }
 },
 "nbformat": 4,
 "nbformat_minor": 5
}
